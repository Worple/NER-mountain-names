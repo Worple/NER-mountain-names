{
 "cells": [
  {
   "cell_type": "code",
   "execution_count": 1,
   "id": "d07895ff",
   "metadata": {},
   "outputs": [
    {
     "data": {
      "application/vnd.jupyter.widget-view+json": {
       "model_id": "82d56bdb224640258edba53f73618081",
       "version_major": 2,
       "version_minor": 0
      },
      "text/plain": [
       "config.json:   0%|          | 0.00/793 [00:00<?, ?B/s]"
      ]
     },
     "metadata": {},
     "output_type": "display_data"
    },
    {
     "name": "stderr",
     "output_type": "stream",
     "text": [
      "C:\\Users\\User\\anaconda3\\lib\\site-packages\\huggingface_hub\\file_download.py:147: UserWarning: `huggingface_hub` cache-system uses symlinks by default to efficiently store duplicated files but your machine does not support them in C:\\Users\\User\\.cache\\huggingface\\hub. Caching files will still work but in a degraded version that might require more space on your disk. This warning can be disabled by setting the `HF_HUB_DISABLE_SYMLINKS_WARNING` environment variable. For more details, see https://huggingface.co/docs/huggingface_hub/how-to-cache#limitations.\n",
      "To support symlinks on Windows, you either need to activate Developer Mode or to run Python as an administrator. In order to see activate developer mode, see this article: https://docs.microsoft.com/en-us/windows/apps/get-started/enable-your-device-for-development\n",
      "  warnings.warn(message)\n"
     ]
    },
    {
     "data": {
      "application/vnd.jupyter.widget-view+json": {
       "model_id": "e940d97e987649e583aef08f92952a4a",
       "version_major": 2,
       "version_minor": 0
      },
      "text/plain": [
       "model.safetensors:   0%|          | 0.00/436M [00:00<?, ?B/s]"
      ]
     },
     "metadata": {},
     "output_type": "display_data"
    },
    {
     "data": {
      "application/vnd.jupyter.widget-view+json": {
       "model_id": "2bbefa2ede3243dbbcf0fb727ea310a0",
       "version_major": 2,
       "version_minor": 0
      },
      "text/plain": [
       "tokenizer_config.json:   0%|          | 0.00/1.24k [00:00<?, ?B/s]"
      ]
     },
     "metadata": {},
     "output_type": "display_data"
    },
    {
     "data": {
      "application/vnd.jupyter.widget-view+json": {
       "model_id": "2695bdd080854fac825b0b846d2724cf",
       "version_major": 2,
       "version_minor": 0
      },
      "text/plain": [
       "vocab.txt:   0%|          | 0.00/232k [00:00<?, ?B/s]"
      ]
     },
     "metadata": {},
     "output_type": "display_data"
    },
    {
     "data": {
      "application/vnd.jupyter.widget-view+json": {
       "model_id": "72291b94f57941baa58bd9e0ec3d49c9",
       "version_major": 2,
       "version_minor": 0
      },
      "text/plain": [
       "special_tokens_map.json:   0%|          | 0.00/125 [00:00<?, ?B/s]"
      ]
     },
     "metadata": {},
     "output_type": "display_data"
    }
   ],
   "source": [
    "from transformers import pipeline\n",
    "\n",
    "pipe = pipeline(\"token-classification\", model=\"Worpl/BERT-finetuned-ner-mountains\")"
   ]
  },
  {
   "cell_type": "code",
   "execution_count": 2,
   "id": "4c904639",
   "metadata": {},
   "outputs": [
    {
     "data": {
      "text/plain": [
       "[{'entity': 'B',\n",
       "  'score': 0.77638245,\n",
       "  'index': 15,\n",
       "  'word': 've',\n",
       "  'start': 60,\n",
       "  'end': 62},\n",
       " {'entity': 'B',\n",
       "  'score': 0.88379085,\n",
       "  'index': 16,\n",
       "  'word': '##ly',\n",
       "  'start': 62,\n",
       "  'end': 64},\n",
       " {'entity': 'B',\n",
       "  'score': 0.881556,\n",
       "  'index': 17,\n",
       "  'word': '##ky',\n",
       "  'start': 64,\n",
       "  'end': 66},\n",
       " {'entity': 'B',\n",
       "  'score': 0.754959,\n",
       "  'index': 18,\n",
       "  'word': '##i',\n",
       "  'start': 66,\n",
       "  'end': 67},\n",
       " {'entity': 'I',\n",
       "  'score': 0.6843933,\n",
       "  'index': 19,\n",
       "  'word': 've',\n",
       "  'start': 68,\n",
       "  'end': 70},\n",
       " {'entity': 'B',\n",
       "  'score': 0.50900394,\n",
       "  'index': 20,\n",
       "  'word': '##rk',\n",
       "  'start': 70,\n",
       "  'end': 72}]"
      ]
     },
     "execution_count": 2,
     "metadata": {},
     "output_type": "execute_result"
    }
   ],
   "source": []
  },
  {
   "cell_type": "code",
   "execution_count": null,
   "id": "9b73b495",
   "metadata": {},
   "outputs": [],
   "source": []
  }
 ],
 "metadata": {
  "kernelspec": {
   "display_name": "Python 3 (ipykernel)",
   "language": "python",
   "name": "python3"
  },
  "language_info": {
   "codemirror_mode": {
    "name": "ipython",
    "version": 3
   },
   "file_extension": ".py",
   "mimetype": "text/x-python",
   "name": "python",
   "nbconvert_exporter": "python",
   "pygments_lexer": "ipython3",
   "version": "3.9.13"
  }
 },
 "nbformat": 4,
 "nbformat_minor": 5
}
